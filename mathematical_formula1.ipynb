{
  "nbformat": 4,
  "nbformat_minor": 0,
  "metadata": {
    "colab": {
      "provenance": [],
      "authorship_tag": "ABX9TyM/Z+r8Xnw4hXBYF5HWA2J5",
      "include_colab_link": true
    },
    "kernelspec": {
      "name": "python3",
      "display_name": "Python 3"
    },
    "language_info": {
      "name": "python"
    }
  },
  "cells": [
    {
      "cell_type": "markdown",
      "metadata": {
        "id": "view-in-github",
        "colab_type": "text"
      },
      "source": [
        "<a href=\"https://colab.research.google.com/github/yuukimotai/AI_Master_Course/blob/main/mathematical_formula1.ipynb\" target=\"_parent\"><img src=\"https://colab.research.google.com/assets/colab-badge.svg\" alt=\"Open In Colab\"/></a>"
      ]
    },
    {
      "cell_type": "markdown",
      "source": [
        "[LaTeXの特殊文字](http://www.ic.daito.ac.jp/~mizutani/tex/special_characters.html)"
      ],
      "metadata": {
        "id": "OiBPuwGzni5Z"
      }
    },
    {
      "cell_type": "markdown",
      "source": [
        "### 活性化関数\n",
        "$$y = f(u) = f(\\sum_{k=1}^n(x_kw_k) + b)$$"
      ],
      "metadata": {
        "id": "w6-zMlTCiClF"
      }
    },
    {
      "cell_type": "markdown",
      "source": [
        "### ストライド\n",
        "$$I_h: 入力画像高さ, I_w: 入力画像幅$$\n",
        "$$F_h: フィルタ高さ,F_w: フィルタ幅$$\n",
        "$$O_h: 出力画像高さ, O_w: 出力画像幅$$\n",
        "$$D: パディング幅, S: ストライド幅$$\n",
        "\n",
        "$$O_h(出力高さ) = \\frac{I_h - F_h + 2D}{S} + 1$$\n",
        "$$O_w(出力幅) = \\frac{I_w - F_w + 2D}{S} + 1$$"
      ],
      "metadata": {
        "id": "BG9bGhong4ed"
      }
    },
    {
      "cell_type": "markdown",
      "source": [
        "### RNNの展開\n",
        "$$w: 重み, \\eta: 学習係数, E: 誤差$$\n",
        "$$w ← w - η\\frac{∂E}{∂w}$$"
      ],
      "metadata": {
        "id": "qyVFljd3nI43"
      }
    },
    {
      "cell_type": "markdown",
      "source": [
        "勾配クリッピングは、勾配の大きさに制限をかけることにより勾配爆発を抑制する\n",
        "勾配のL2ノルムがしきい値より大きい場合、以下の式により\n",
        "勾配を調整する  \n",
        "(L2ノルム = 二乗の総和の平方根)\n",
        "$$勾配 →\\frac{しきい値}{L2ノルム} × 勾配$$\n"
      ],
      "metadata": {
        "id": "Qfz01Hb5oMdu"
      }
    },
    {
      "cell_type": "markdown",
      "source": [
        "### VAE Reparametrization Trick\n",
        "$$ɛ \\sim N(0, I), z = μ + ϵ⊙σ$$"
      ],
      "metadata": {
        "id": "7nNSv_R-qkQI"
      }
    },
    {
      "cell_type": "markdown",
      "source": [
        "### VAE 変分下界\n",
        "$$L(X, z) = E_{qϕ(z|X)}[log_{p\\theta}(X|z)] - D_{KL}[q_{\\phi}(z|X)|| p_\\theta(z)]$$"
      ],
      "metadata": {
        "id": "_csSgqNUsR7U"
      }
    },
    {
      "cell_type": "markdown",
      "source": [
        "### KLダイバージェンス"
      ],
      "metadata": {
        "id": "QOm8kUs1ulTx"
      }
    }
  ]
}
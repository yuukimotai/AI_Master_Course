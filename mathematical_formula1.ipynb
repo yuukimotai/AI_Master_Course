{
  "nbformat": 4,
  "nbformat_minor": 0,
  "metadata": {
    "colab": {
      "provenance": [],
      "authorship_tag": "ABX9TyP1oFzHRmO2+IYiMMwDYyru",
      "include_colab_link": true
    },
    "kernelspec": {
      "name": "python3",
      "display_name": "Python 3"
    },
    "language_info": {
      "name": "python"
    }
  },
  "cells": [
    {
      "cell_type": "markdown",
      "metadata": {
        "id": "view-in-github",
        "colab_type": "text"
      },
      "source": [
        "<a href=\"https://colab.research.google.com/github/yuukimotai/AI_Master_Course/blob/main/mathematical_formula1.ipynb\" target=\"_parent\"><img src=\"https://colab.research.google.com/assets/colab-badge.svg\" alt=\"Open In Colab\"/></a>"
      ]
    },
    {
      "cell_type": "markdown",
      "source": [
        "[LaTeXの特殊文字](http://www.ic.daito.ac.jp/~mizutani/tex/special_characters.html)"
      ],
      "metadata": {
        "id": "OiBPuwGzni5Z"
      }
    },
    {
      "cell_type": "markdown",
      "source": [
        "### 活性化関数\n",
        "$$y = f(u) = f(\\sum_{k=1}^n(x_kw_k) + b)$$"
      ],
      "metadata": {
        "id": "w6-zMlTCiClF"
      }
    },
    {
      "cell_type": "markdown",
      "source": [
        "### ストライド\n",
        "$$I_h: 入力画像高さ, I_w: 入力画像幅$$\n",
        "$$F_h: フィルタ高さ,F_w: フィルタ幅$$\n",
        "$$O_h: 出力画像高さ, O_w: 出力画像幅$$\n",
        "$$D: パディング幅, S: ストライド幅$$\n",
        "\n",
        "$$O_h(出力高さ) = \\frac{I_h - F_h + 2D}{S} + 1$$\n",
        "$$O_w(出力幅) = \\frac{I_w - F_w + 2D}{S} + 1$$"
      ],
      "metadata": {
        "id": "BG9bGhong4ed"
      }
    },
    {
      "cell_type": "markdown",
      "source": [
        "### RNNの展開\n",
        "$$w: 重み, \\eta: 学習係数, E: 誤差$$\n",
        "$$w ← w - η\\frac{∂E}{∂w}$$"
      ],
      "metadata": {
        "id": "qyVFljd3nI43"
      }
    },
    {
      "cell_type": "markdown",
      "source": [
        "勾配クリッピングは、勾配の大きさに制限をかけることにより勾配爆発を抑制する\n",
        "勾配のL2ノルムがしきい値より大きい場合、以下の式により\n",
        "勾配を調整する  \n",
        "(L2ノルム = 二乗の総和の平方根)\n",
        "$$勾配 →\\frac{しきい値}{L2ノルム} × 勾配$$\n"
      ],
      "metadata": {
        "id": "Qfz01Hb5oMdu"
      }
    },
    {
      "cell_type": "markdown",
      "source": [
        "### VAE Reparametrization Trick\n",
        "$$ɛ \\sim N(0, I), z = μ + ϵ⊙σ$$"
      ],
      "metadata": {
        "id": "7nNSv_R-qkQI"
      }
    },
    {
      "cell_type": "markdown",
      "source": [
        "### VAE 変分下界\n",
        "$$L(X, z) = E_{qϕ(z|X)}[log_{p\\theta}(X|z)] - D_{KL}[q_{\\phi}(z|X)|| p_\\theta(z)]$$"
      ],
      "metadata": {
        "id": "_csSgqNUsR7U"
      }
    },
    {
      "cell_type": "markdown",
      "source": [
        "### KLダイバージェンス\n",
        "$$DKL[p||q] = \\int^{\\infty}_{-\\infty} p(x)log\\frac{p(x)}{q(x)}dx$$"
      ],
      "metadata": {
        "id": "QOm8kUs1ulTx"
      }
    },
    {
      "cell_type": "markdown",
      "source": [
        "### GAN\n",
        "■高解像度の画像生成.   \n",
        "■画像アレンジ.   \n",
        "■画像の演算.  \n",
        "などに使える。  \n",
        "$G: Generator,D: Discriminator,V: 評価関数,x: 本物のデータ,z: ノイズ,𝔼[]: 期待値,p: 確率分布$.  \n",
        "$$min max V(D, G) = 𝔼_{x∼pdata(x)}[log D(x)] + 𝔼_{z∼pz(z)}[log(1 − D(G(z)))]$$"
      ],
      "metadata": {
        "id": "709vHYJkFfAn"
      }
    },
    {
      "cell_type": "markdown",
      "source": [
        "### 強化学習　Q学習\n",
        "**Q値の更新量 = 学習係数 x ( 報酬 + 割引率 x 次の状態で最大のQ値 - 現在のQ値 )**.  \n",
        "$$at : 行動 / st: 状態 / Q(st, at) : Q値 / η : 学習係数 R_{(t+1)} : 報酬/γ : 割引率$$\n",
        "### Q学習\n",
        "$$Q(st, at) ← Q(st, at) + η (Rt+1 + γ max Q(st+1, a) - Q(st, at))$$\n",
        "### SARSA\n",
        "γ : 割引率\n",
        "$$Q(st, at) ← Q(st, at) + η (Rt+1 + γQ(st+1, at+1) - Q(st, at))$$"
      ],
      "metadata": {
        "id": "02uJ0Eo1Mi35"
      }
    }
  ]
}